{
 "cells": [
  {
   "cell_type": "code",
   "execution_count": null,
   "metadata": {},
   "outputs": [],
   "source": [
    "import base64\n",
    "from PIL import Image\n",
    "import requests\n",
    "import io\n",
    "\n",
    "img = Image.open('/workspaces/mba-deeplearning-iad-006-2024-public/imagens/imagem_positiva.png')",
    "img = img.resize((8,8))\n",
    "\n",
    "buffered = io.BytesIO()\n",
    "img.save(buffered, format = \"PNG\")\n",
    "img_str = base64.b64encode(buffered.getvalue()).decode('utf-8')\n",
    "\n",
    "url = 'http://localhost:8000/predict'\n",
    "response = requests.post(url, json={'image': img_str})\n",
    "\n",
    "print(response.json())\n",
    "\n"
   ]
  }
 ],
 "metadata": {
  "language_info": {
   "name": "python"
  }
 },
 "nbformat": 4,
 "nbformat_minor": 2
}
